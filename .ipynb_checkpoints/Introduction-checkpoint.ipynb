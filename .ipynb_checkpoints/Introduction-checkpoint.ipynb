{
 "cells": [
  {
   "cell_type": "markdown",
   "metadata": {},
   "source": [
    "# Eksplorasi Seismic: \n",
    "## Dasar-dasar secara fisika"
   ]
  },
  {
   "cell_type": "markdown",
   "metadata": {},
   "source": [
    "## Gelombang Seismik\n",
    "\n",
    "Dasar fisika dari eksplorasi seismik sangat sederhana, jika terjadi perpindahan secara tiba-tiba pada suatu area kecil di dalam batuan/kerak penyusun bumi, maka akan terjadi penjalaran energi dari sekitar sumber (tempat terjadinya perpindahan) secara radial ke segala arah, sehingga bisa dirasakan (getarannya) pada jarak tertentu oleh pengamat. Fenomena ini mirip dengan gelombang pada permukaan air saat dijatuhi batu.\n",
    "\n",
    "![](https://cdn.pixabay.com/photo/2014/01/14/09/14/stones-244244_960_720.jpg)\n",
    "\n",
    "Sekarang perhatikan gelombang seismik akibat adanya patahan di kerak bumi berikut \n",
    "\n",
    "![](https://lh5.googleusercontent.com/Y5Qx8PLin6Gq0aNZ2pF0p7r-pn1o-5sZtwwuOD0gibDvAmXCzB277zwPRDiqQaeDx9sQwNIX2s7jvbyRppBYRVp7zjRrTGF0dgm6V_3bkNvGMqbiGbE=w773)\n",
    "\n",
    "Mirip bukan. Jika kita lihat penampang lintang gelombang pada permukaan air, sebagai berikut\n",
    "\n",
    "![](https://thumbs.dreamstime.com/b/waves-water-banner-background-long-blue-series-white-61444024.jpg)\n",
    "\n",
    "Sedangkan kalau kita lihat penampang lintang gelombang seismik, seperti ini \n",
    "\n",
    "![](https://upload.wikimedia.org/wikipedia/commons/5/56/1989_Loma_Prieta_earthquake_seismogram.jpg)\n",
    "\n",
    "Gambar diatas disebut dengan Seismogram dan kumpulan dari seismogram inilah yang akan menjadi fokus pekerjaan kita pada metode seismik. Tantangannya adalah menerka sifat material di dalam tanah, dari sekumpulan rekaman getaran (seismogram) yang didapatkan dari survey seismik yang dilakukan di atas tanah tersebut. \n",
    "\n",
    "Biasanya, untuk target dangkal, ~0-500 m digunakan sumber getaran berupa palu gada.\n",
    "\n",
    "![](https://prd-wret.s3-us-west-2.amazonaws.com/assets/palladium/production/s3fs-public/styles/full_width/public/2006_LA_NewOrleans_Seismic2.jpg)\n",
    "\n",
    "Pada jarak tertentu kita mengamati getarannya, \n",
    "\n",
    "![](https://www.ntu.edu.sg/home/tongping/images/crust2.jpg)\n",
    "\n",
    "Perhatikan gambar penjalaran gelombang seismik dibawah ini, ada 2 terminologi fitur gelombang, \n",
    "\n",
    "![](https://pburnley.faculty.unlv.edu/GEOL442_642/SEIS/NOTES/seis_images/wfrp.gif)\n",
    "\n",
    "- Wavefront (muka gelombang)\n",
    "- Raypath (Jejak sinar)\n",
    "\n",
    "Perhatikan gambar lintasan penjalaran gelombang seismik di dalam Bumi dalam gambar kartun berikut:\n",
    "![Images\\map.png](Images/sinar.png)\n"
   ]
  },
  {
   "cell_type": "markdown",
   "metadata": {},
   "source": [
    "![Images\\map.png](Images/map.png)\n",
    "\n",
    "Gelombang seismik menjalar seperti halnya lintasan perjananan kendaraan, saat ini banyak lintasan yang dapat dipilih, apakah yang terdekat, apakah yang tercepat.\n",
    "\n",
    "Kalau kita sih sebagai manusia bebas memilih lintasannya, apakah mau yang paling dekat, atau paling cepat. Namun bagi gelombang seismik, dia harus tunduk (*sami'na wa ato'na*) pada hukum alam, yaitu hukum Snellius, yang merupakan representasi lain dari hukum Fermat (Azaz Fermat), yaitu azas lintasan tercepat. Jadi, gelombang seismik harus menjalar dari satu tempat ke tempat lain dengan \"hanya\" melalui lintasan yang paling cepat *thok til*. Ini saja pilihan baginya, *no choice!* Bersyukur kita sebagai geofisikawan, karena kalau gelombang seismik seperti manusia, wah bubar ilmu Geofisika ini. \n",
    "\n",
    "Nah, eksplorasi seismik kalau pada analogi perjalanan kendaraan, ibaratnya seperti menebak kecepatan kendaraan pada setiap segmen jalan, berdasarkan waktu ketibaan di setiap ujung-ujung segmen jalan tersebut. Namun dilakukan untuk menebak kecepatan rambat gelombang seismik melalui medium di dalam bumi. Uniknya, gelombang seismik secara disiplin akan memberikan sinyal saat dia melalui batas-batas medium yang berbeda sifat fisikanya, sehingga bisa kita kenali masing-masing segmen medium di dalam bumi dari kenampakan jejak seismiknya. Bayangkan kalau gelombang seisimik seperti kebanyakan manusia yang kurang disiplin, bahkan sering lupa.. he he..   \n",
    "\n",
    "![](http://www.eri.u-tokyo.ac.jp/people/akuhara/img/synthetic.PNG)"
   ]
  },
  {
   "cell_type": "code",
   "execution_count": null,
   "metadata": {},
   "outputs": [],
   "source": []
  }
 ],
 "metadata": {
  "kernelspec": {
   "display_name": "Python 3",
   "language": "python",
   "name": "python3"
  },
  "language_info": {
   "codemirror_mode": {
    "name": "ipython",
    "version": 3
   },
   "file_extension": ".py",
   "mimetype": "text/x-python",
   "name": "python",
   "nbconvert_exporter": "python",
   "pygments_lexer": "ipython3",
   "version": "3.5.3"
  }
 },
 "nbformat": 4,
 "nbformat_minor": 2
}
